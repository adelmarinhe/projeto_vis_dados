{
  "nbformat": 4,
  "nbformat_minor": 0,
  "metadata": {
    "colab": {
      "provenance": [],
      "collapsed_sections": [
        "LnuvNlOaAvOY",
        "yyV1Z8JMAzE3"
      ]
    },
    "kernelspec": {
      "name": "python3",
      "display_name": "Python 3"
    },
    "language_info": {
      "name": "python"
    }
  },
  "cells": [
    {
      "cell_type": "markdown",
      "source": [
        "# Escopo Geral\n",
        "\n",
        "A ocorrência de incêndios e queimadas representa um dos mais críticos problemas ambientais enfrentados pelo Brasil, com implicações que vão desde a perda de biodiversidade até impactos severos na saúde humana e no clima global. Apesar da disponibilidade de grandes volumes de dados relacionados a esses eventos, os desafios na comunicação clara e impactante dessas informações permanecem, especialmente quando o público-alvo inclui tanto especialistas quanto a sociedade em geral.\n",
        "\n",
        "Este projeto busca abordar esses desafios por meio da criação de uma solução inovadora para a representação visual de informações relacionadas a queimadas. Utilizando os dados abertos disponibilizados pela plataforma gov.br. A proposta inicial envolve análises mensais e a progressiva expansão para padrões anuais e sazonais, com foco em destacar tendências, anomalias e áreas críticas.\n",
        "\n",
        "A solução proposta pelo grupo é a utilização de uma representação iconográfica, com o objetivo de traduzir os dados em elementos gráficos intuitivos, capazes de captar a atenção do público e facilitar a compreensão das informações. A ideia é tornar os dados acessíveis e impactantes, incentivando a conscientização e a ação.\n",
        "\n",
        "O desenvolvimento da solução será segmentado nas seguintes etapas:\n",
        "1. Tratamento dos dados: os dados serão baixados e carregados da plataforma (https://terrabrasilis.dpi.inpe.br/queimadas/portal/dados-abertos/#da-focos) e serão verificadas as características dessa base, tendo como foco quais atributos do conjunto serão necessáerios para nosso objetivo. Além disso serão identificados dados faltantes, informações inconsistentes e, também, a necessidade de criação de novos atributos, engenharia de dados etc.;\n",
        "2. Criação das visualizações: com os dados tratados serão criadas visualizações, cujo intuito é mapear as áreas afetadas por queimadas, onde as características do conjunto serão representadas graficamentepor ícones que representam os atributos do conjunto;\n",
        "3. Validação dos Resultados: as visualizações criadas serão submetidas para alguns individuos do público geral e de público especialista para verificar a qualidade gráfica da representação das informações"
      ],
      "metadata": {
        "id": "OjJ4GgzeNMko"
      }
    },
    {
      "cell_type": "markdown",
      "source": [
        "# EXPLORAÇÃO E TRATAMENTO DOS DADOS"
      ],
      "metadata": {
        "id": "fUeM90hAVEjy"
      }
    },
    {
      "cell_type": "markdown",
      "source": [
        "A base de dados que será avaliada inicialmente é referente ao mês de novembro de 2024. Inicialmente a etapa de exploração e tratamento será realizada apenas com este conjunto, para obter uma visão inicial de como os dados estão dispostos. A base de dados contém informações detalhadas sobre focos de queimadas no Brasil, organizada em 588.262 registros e 16 colunas. Abaixo estão descritos os atributos presentes:  \n",
        "\n",
        "### Atributos e Aplicação no Contexto\n",
        "1. **id (Identificador único)** (`String`):  Identificador único para cada registro, permitindo rastrear individualmente cada foco de queimada.  \n",
        "\n",
        "2. **lat (Latitude) e lon (Longitude)** (`Float`):  Coordenadas geográficas dos focos de queimadas.  \n",
        "\n",
        "3. **data_hora_gmt (Data e hora em GMT)** (`String`): Timestamp do momento em que o foco foi registrado.  \n",
        "\n",
        "4. **satelite (Satélite responsável pelo registro)** (`String`): Indica qual satélite coletou os dados.  \n",
        "\n",
        "5. **municipio, estado, pais (Localização administrativa)** (`String`): Nome do município, estado e país correspondentes às coordenadas.  \n",
        "\n",
        "6. **municipio_id, estado_id, pais_id (Identificadores administrativos)** (`Integer`): Códigos numéricos correspondentes às localidades.  \n",
        "\n",
        "7. **numero_dias_sem_chuva (Número de dias sem chuva)** (`Float`): Indica o tempo seco, um fator relevante para o aumento do risco de queimadas.  \n",
        "\n",
        "8. **precipitacao (Precipitação em mm)** (`Float`): Quantidade de chuva registrada.  \n",
        "\n",
        "9. **risco_fogo (Índice de risco de fogo)** (`Float`): Mede a probabilidade de ocorrência de fogo.  \n",
        "\n",
        "10. **bioma** (`String`): Bioma onde o foco foi registrado (e.g., Amazônia, Cerrado).  \n",
        "\n",
        "11. **frp (Fire Radiative Power)** (`Float`): Medida da intensidade do fogo, em megawatts."
      ],
      "metadata": {
        "id": "g4IHP5ULm-Gl"
      }
    },
    {
      "cell_type": "code",
      "source": [
        "from google.colab import drive\n",
        "drive.mount('/content/drive')"
      ],
      "metadata": {
        "colab": {
          "base_uri": "https://localhost:8080/"
        },
        "id": "AxE4zDzxiepT",
        "outputId": "37e1ed4f-6a5c-4efa-8bc3-65608be483d4"
      },
      "execution_count": null,
      "outputs": [
        {
          "output_type": "stream",
          "name": "stdout",
          "text": [
            "Drive already mounted at /content/drive; to attempt to forcibly remount, call drive.mount(\"/content/drive\", force_remount=True).\n"
          ]
        }
      ]
    },
    {
      "cell_type": "code",
      "execution_count": null,
      "metadata": {
        "id": "gIjefsZgXv8m"
      },
      "outputs": [],
      "source": [
        "import pandas as pd\n",
        "import numpy as np\n",
        "import plotly\n",
        "import plotly.express as px\n",
        "from datetime import datetime\n",
        "from urllib.request import urlopen\n",
        "import json"
      ]
    },
    {
      "cell_type": "code",
      "source": [
        "data = pd.read_csv('https://storage.googleapis.com/data-vis-pdssf/focos_mensal_br_202411%20(1).csv', sep=',')"
      ],
      "metadata": {
        "id": "EItDpAYUVjCG"
      },
      "execution_count": null,
      "outputs": []
    },
    {
      "cell_type": "code",
      "source": [
        "df = pd.DataFrame(data)"
      ],
      "metadata": {
        "id": "3XZHuzCcV1wR"
      },
      "execution_count": null,
      "outputs": []
    },
    {
      "cell_type": "code",
      "source": [
        "initial_data_len = len(df['id'])"
      ],
      "metadata": {
        "id": "3WLt4NVErTR3"
      },
      "execution_count": null,
      "outputs": []
    },
    {
      "cell_type": "code",
      "source": [
        "print(df.info())"
      ],
      "metadata": {
        "colab": {
          "base_uri": "https://localhost:8080/"
        },
        "id": "7v-ePm_csF1T",
        "outputId": "281d0d3d-1e6c-4a2e-d537-54fc965643bc"
      },
      "execution_count": null,
      "outputs": [
        {
          "output_type": "stream",
          "name": "stdout",
          "text": [
            "<class 'pandas.core.frame.DataFrame'>\n",
            "RangeIndex: 588262 entries, 0 to 588261\n",
            "Data columns (total 16 columns):\n",
            " #   Column                 Non-Null Count   Dtype  \n",
            "---  ------                 --------------   -----  \n",
            " 0   id                     588262 non-null  object \n",
            " 1   lat                    588262 non-null  float64\n",
            " 2   lon                    588262 non-null  float64\n",
            " 3   data_hora_gmt          588262 non-null  object \n",
            " 4   satelite               588262 non-null  object \n",
            " 5   municipio              588262 non-null  object \n",
            " 6   estado                 588262 non-null  object \n",
            " 7   pais                   588262 non-null  object \n",
            " 8   municipio_id           588262 non-null  int64  \n",
            " 9   estado_id              588262 non-null  int64  \n",
            " 10  pais_id                588262 non-null  int64  \n",
            " 11  numero_dias_sem_chuva  503812 non-null  float64\n",
            " 12  precipitacao           503812 non-null  float64\n",
            " 13  risco_fogo             503812 non-null  float64\n",
            " 14  bioma                  588262 non-null  object \n",
            " 15  frp                    557467 non-null  float64\n",
            "dtypes: float64(6), int64(3), object(7)\n",
            "memory usage: 71.8+ MB\n",
            "None\n"
          ]
        }
      ]
    },
    {
      "cell_type": "markdown",
      "source": [
        "Formatar dados de data e hora"
      ],
      "metadata": {
        "id": "OuSBuH7v1SZF"
      }
    },
    {
      "cell_type": "code",
      "source": [
        "df['data_hora_gmt'] = pd.to_datetime(df['data_hora_gmt']) # transformar coluna em datetime\n",
        "\n",
        "date = []\n",
        "time = []\n",
        "\n",
        "for i, value in enumerate(df['data_hora_gmt']):\n",
        "    date.append(value.date().strftime('%y-%m-%d')) # formatar a data e salvar numa lista\n",
        "    time.append(value.time().strftime('%H:%M:%S')) # formatar a hora e salvar numa lista\n",
        "\n",
        "df['date'] = date\n",
        "df['time'] = time\n",
        "\n",
        "# df.drop(columns=['data_hora_gmt'], inplace=True) # excluir coluna 'data_hora_gmt'"
      ],
      "metadata": {
        "id": "nSuW0gWCwLsq"
      },
      "execution_count": null,
      "outputs": []
    },
    {
      "cell_type": "markdown",
      "source": [
        "Serão retirados os atributos municipio_id, estado_id, pais_id do conjunto de dados, pois são atributos referentes a um banco de dados relacional que não será utilizado no contexto deste trabalho"
      ],
      "metadata": {
        "id": "8kK_bVg7o5Hn"
      }
    },
    {
      "cell_type": "code",
      "source": [
        "# df.drop(columns=['id', 'pais', 'municipio_id', 'estado_id', 'pais_id'], inplace=True)\n",
        "df.drop(columns=['id', 'pais', 'pais_id'], inplace=True)"
      ],
      "metadata": {
        "id": "CaDj5ukNpUra"
      },
      "execution_count": null,
      "outputs": []
    },
    {
      "cell_type": "markdown",
      "source": [
        "Calculando a porcentagem de valores faltantes"
      ],
      "metadata": {
        "id": "yp0vX4qb2epp"
      }
    },
    {
      "cell_type": "code",
      "source": [
        "print(\"Porcentagem de valores faltantes em:\")\n",
        "\n",
        "for column in df.columns:\n",
        "    print(f'{column}: {((len(df[column]) - df[column].notna().sum())/df[column].notna().sum())*100} %')"
      ],
      "metadata": {
        "colab": {
          "base_uri": "https://localhost:8080/"
        },
        "id": "PDCRLLSJizsP",
        "outputId": "6219cf87-cf97-4c91-85cd-9eca009ca68c"
      },
      "execution_count": null,
      "outputs": [
        {
          "output_type": "stream",
          "name": "stdout",
          "text": [
            "Porcentagem de valores faltantes em:\n",
            "lat: 0.0 %\n",
            "lon: 0.0 %\n",
            "data_hora_gmt: 0.0 %\n",
            "satelite: 0.0 %\n",
            "municipio: 0.0 %\n",
            "estado: 0.0 %\n",
            "municipio_id: 0.0 %\n",
            "estado_id: 0.0 %\n",
            "numero_dias_sem_chuva: 16.762204949465275 %\n",
            "precipitacao: 16.762204949465275 %\n",
            "risco_fogo: 16.762204949465275 %\n",
            "bioma: 0.0 %\n",
            "frp: 5.524093802861874 %\n",
            "date: 0.0 %\n",
            "time: 0.0 %\n"
          ]
        }
      ]
    },
    {
      "cell_type": "markdown",
      "source": [
        "As colunas com valores faltantes são numero_dias_sem_chuva (16.762%), precipitacao (16.762%), risco_fogo (16.762%), frp (5.524%)."
      ],
      "metadata": {
        "id": "vUB3GDLIoOQo"
      }
    },
    {
      "cell_type": "code",
      "source": [
        "list_col_miss = ['numero_dias_sem_chuva', 'precipitacao', 'risco_fogo', 'frp']"
      ],
      "metadata": {
        "id": "r5Q3mW8tp3US"
      },
      "execution_count": null,
      "outputs": []
    },
    {
      "cell_type": "code",
      "source": [
        "for item in list_col_miss:\n",
        "  index_miss = list(df[item][df[item].isna()].index)\n",
        "  df.drop(index_miss, inplace=True)"
      ],
      "metadata": {
        "id": "wVE7FbvZk4Wj"
      },
      "execution_count": null,
      "outputs": []
    },
    {
      "cell_type": "code",
      "source": [
        "data_post_treatment_1 = len(df.index)"
      ],
      "metadata": {
        "id": "dJa0EgYCrfby"
      },
      "execution_count": null,
      "outputs": []
    },
    {
      "cell_type": "code",
      "source": [
        "print(f'Redução dos dados pós-redução dos valores NaN em: {((initial_data_len - data_post_treatment_1)/initial_data_len)*100} %')"
      ],
      "metadata": {
        "colab": {
          "base_uri": "https://localhost:8080/"
        },
        "id": "tOg7mfrnpzKH",
        "outputId": "943debda-f686-4e3c-837a-829cac28bb00"
      },
      "execution_count": null,
      "outputs": [
        {
          "output_type": "stream",
          "name": "stdout",
          "text": [
            "Redução dos dados pós-redução dos valores NaN em: 18.17200499097341 %\n"
          ]
        }
      ]
    },
    {
      "cell_type": "markdown",
      "source": [
        "Foram identificadas entradas com valor -999"
      ],
      "metadata": {
        "id": "yJdQVxWwDp03"
      }
    },
    {
      "cell_type": "code",
      "source": [
        "data_pre_treatment = len(df.index)"
      ],
      "metadata": {
        "id": "51iZ5Kl7DyE_"
      },
      "execution_count": null,
      "outputs": []
    },
    {
      "cell_type": "code",
      "source": [
        "list_col_wrong_value = ['numero_dias_sem_chuva', 'precipitacao', 'risco_fogo', 'frp']"
      ],
      "metadata": {
        "id": "UyrZmsFBD59E"
      },
      "execution_count": null,
      "outputs": []
    },
    {
      "cell_type": "code",
      "source": [
        "for item in list_col_wrong_value:\n",
        "  index_miss = list(df[item][df[item] == -999].index)\n",
        "  df.drop(index_miss, inplace=True)"
      ],
      "metadata": {
        "id": "Vm3i5ZWIDsBL"
      },
      "execution_count": null,
      "outputs": []
    },
    {
      "cell_type": "code",
      "source": [
        "data_post_treatment_2 = len(df.index)"
      ],
      "metadata": {
        "id": "CA1JyvXWEEk6"
      },
      "execution_count": null,
      "outputs": []
    },
    {
      "cell_type": "code",
      "source": [
        "print(f'Redução dos dados pós-redução dos valores iguais a -999 em: {((data_pre_treatment - data_post_treatment_2)/data_pre_treatment)*100} %')"
      ],
      "metadata": {
        "colab": {
          "base_uri": "https://localhost:8080/"
        },
        "id": "_bz0Orz0EF_g",
        "outputId": "a638c1d6-58c6-4891-b03a-c44b368ddda7"
      },
      "execution_count": null,
      "outputs": [
        {
          "output_type": "stream",
          "name": "stdout",
          "text": [
            "Redução dos dados pós-redução dos valores iguais a -999 em: 5.068524169909196 %\n"
          ]
        }
      ]
    },
    {
      "cell_type": "markdown",
      "source": [
        "Redução total dos dados"
      ],
      "metadata": {
        "id": "2UgyT3xSEwXA"
      }
    },
    {
      "cell_type": "code",
      "source": [
        "print(f'Redução total dos dados em: {((initial_data_len - data_post_treatment_2)/initial_data_len)*100} %')"
      ],
      "metadata": {
        "colab": {
          "base_uri": "https://localhost:8080/"
        },
        "id": "4HgObipYETJZ",
        "outputId": "68dddb54-a522-4ac2-f461-57398682a264"
      },
      "execution_count": null,
      "outputs": [
        {
          "output_type": "stream",
          "name": "stdout",
          "text": [
            "Redução total dos dados em: 22.319476695758013 %\n"
          ]
        }
      ]
    },
    {
      "cell_type": "markdown",
      "source": [
        "# Criação das Visualizações"
      ],
      "metadata": {
        "id": "FOmTv4n8sug_"
      }
    },
    {
      "cell_type": "markdown",
      "source": [
        "## Visualização Geral"
      ],
      "metadata": {
        "id": "Mi7CwmyY2Uv7"
      }
    },
    {
      "cell_type": "code",
      "source": [
        "fig = px.scatter_mapbox(\n",
        "    df,\n",
        "    lat='lat',\n",
        "    lon='lon',\n",
        "    hover_name='municipio',\n",
        "    hover_data=['date', 'time', 'bioma', 'frp', 'risco_fogo', 'numero_dias_sem_chuva', 'precipitacao'],\n",
        "    mapbox_style='carto-positron',\n",
        "    labels={'date': 'Data', 'time': 'Hora', 'bioma': 'Bioma',\n",
        "            'frp': 'Potência do Fogo', 'risco_fogo': 'Risco de Fogo',\n",
        "            'lat': 'Latitude', 'lon': 'Longitude', 'precipitacao': 'Precipitação',\n",
        "            'numero_dias_sem_chuva': 'Dias sem Chuva'},\n",
        "    zoom=4,\n",
        "    height=600\n",
        ")\n",
        "\n",
        "plotly.offline.plot(fig, filename = f'/content/drive/MyDrive/plots_vis_dados/distribuicao_espacial_brasil.html')\n",
        "\n",
        "# fig.show()"
      ],
      "metadata": {
        "colab": {
          "base_uri": "https://localhost:8080/",
          "height": 35
        },
        "id": "t8WVeBmc2YoJ",
        "outputId": "3d3daeda-8333-45e0-f9e5-e5dc7341094c"
      },
      "execution_count": null,
      "outputs": [
        {
          "output_type": "execute_result",
          "data": {
            "text/plain": [
              "'/content/drive/MyDrive/plots_vis_dados/distribuicao_espacial_brasil.html'"
            ],
            "application/vnd.google.colaboratory.intrinsic+json": {
              "type": "string"
            }
          },
          "metadata": {},
          "execution_count": 127
        }
      ]
    },
    {
      "cell_type": "markdown",
      "source": [
        "## Visualizações por Estados"
      ],
      "metadata": {
        "id": "LnuvNlOaAvOY"
      }
    },
    {
      "cell_type": "markdown",
      "source": [
        "Número de ocorrências de queimadas registradas por estado no mês de novembro."
      ],
      "metadata": {
        "id": "S4dkQjg5P00l"
      }
    },
    {
      "cell_type": "code",
      "source": [
        "estados_dict = {'PARÁ': 'PA',\n",
        "                'MARANHÃO': 'MA',\n",
        "                'PIAUÍ': 'PI',\n",
        "                'AMAPÁ': 'AP',\n",
        "                'CEARÁ': 'CE',\n",
        "                'MATO GROSSO': 'MT',\n",
        "                'AMAZONAS': 'AM',\n",
        "                'BAHIA': 'BA',\n",
        "                'PERNAMBUCO': 'PE',\n",
        "                'TOCANTINS': 'TO',\n",
        "                'PARAÍBA': 'PB',\n",
        "                'RORAIMA': 'RR',\n",
        "                'MINAS GERAIS': 'MG',\n",
        "                'RIO GRANDE DO NORTE': 'RN',\n",
        "                'MATO GROSSO DO SUL': 'MS',\n",
        "                'RONDÔNIA': 'RO',\n",
        "                'PARANÁ': 'PR',\n",
        "                'ALAGOAS': 'AL',\n",
        "                'ACRE': 'AC',\n",
        "                'SÃO PAULO': 'SP',\n",
        "                'GOIÁS': 'GO',\n",
        "                'SERGIPE': 'SE',\n",
        "                'RIO GRANDE DO SUL': 'RS',\n",
        "                'SANTA CATARINA': 'SC',\n",
        "                'ESPÍRITO SANTO': 'ES',\n",
        "                'RIO DE JANEIRO': 'RJ',\n",
        "                'DISTRITO FEDERAL': 'DF'}"
      ],
      "metadata": {
        "id": "oaddESX23sOl"
      },
      "execution_count": null,
      "outputs": []
    },
    {
      "cell_type": "code",
      "source": [
        "df['estado'].replace(estados_dict, inplace=True)"
      ],
      "metadata": {
        "colab": {
          "base_uri": "https://localhost:8080/"
        },
        "id": "UJEO7gPVcA5Y",
        "outputId": "a4a9df87-7001-4cb9-ca85-455b7b8503f4"
      },
      "execution_count": null,
      "outputs": [
        {
          "output_type": "stream",
          "name": "stderr",
          "text": [
            "<ipython-input-79-1521b6469f09>:1: FutureWarning:\n",
            "\n",
            "A value is trying to be set on a copy of a DataFrame or Series through chained assignment using an inplace method.\n",
            "The behavior will change in pandas 3.0. This inplace method will never work because the intermediate object on which we are setting values always behaves as a copy.\n",
            "\n",
            "For example, when doing 'df[col].method(value, inplace=True)', try using 'df.method({col: value}, inplace=True)' or df[col] = df[col].method(value) instead, to perform the operation inplace on the original object.\n",
            "\n",
            "\n",
            "\n"
          ]
        }
      ]
    },
    {
      "cell_type": "code",
      "source": [
        "queimadas_por_estado = {'estado': list(df['estado'].value_counts().keys()), 'queimadas': list(df['estado'].value_counts().values)}"
      ],
      "metadata": {
        "id": "D0c9hx3CdD7K"
      },
      "execution_count": null,
      "outputs": []
    },
    {
      "cell_type": "code",
      "source": [
        "df_2 = pd.DataFrame(queimadas_por_estado)"
      ],
      "metadata": {
        "id": "Dyyl2xkXdWLC"
      },
      "execution_count": null,
      "outputs": []
    },
    {
      "cell_type": "code",
      "source": [
        "df_2['codigo_estado'] = df_2['estado'].map({\n",
        " 'AC': 1, 'AL': 2, 'AM': 3, 'AP': 4, 'BA': 5, 'CE': 6, 'DF': 7,\n",
        " 'ES': 8, 'GO': 9, 'MA': 10, 'MG': 11, 'MS': 12, 'MT': 13, 'PA': 14,\n",
        " 'PB': 15, 'PE': 16, 'PI': 17, 'PR': 18, 'RJ': 19, 'RN': 20, 'RO': 21,\n",
        " 'RR': 22, 'RS': 23, 'SC': 24, 'SE': 25, 'SP': 26, 'TO': 27\n",
        "})"
      ],
      "metadata": {
        "id": "dw2FYeD8doQ4"
      },
      "execution_count": null,
      "outputs": []
    },
    {
      "cell_type": "code",
      "source": [
        "with urlopen('https://raw.githubusercontent.com/codeforamerica/click_that_hood/master/public/data/brazil-states.geojson') as response:\n",
        "  data = json.load(response)"
      ],
      "metadata": {
        "id": "G8CVDNC09laq"
      },
      "execution_count": null,
      "outputs": []
    },
    {
      "cell_type": "code",
      "source": [
        "mes = 'Novembro'\n",
        "ano = 2024\n",
        "\n",
        "fig = px.choropleth_mapbox(\n",
        "      df_2,\n",
        "      geojson = data,\n",
        "      locations='codigo_estado',\n",
        "      featureidkey = 'properties.id',\n",
        "      color = 'queimadas',\n",
        "      # animation_frame = 'date',\n",
        "      hover_name = 'estado',\n",
        "      hover_data = ['queimadas'],\n",
        "      title = f'Distribuição de Queimadas no Brasil em {mes} de {ano}',\n",
        "      color_continuous_scale='YlOrRd',\n",
        "      mapbox_style = 'carto-positron',\n",
        "      center = {'lat': -15.83, 'lon': -47.86},\n",
        "      labels={'queimadas': 'Queimadas'},\n",
        "      zoom = 2.5,\n",
        "      opacity = 0.9)\n",
        "\n",
        "fig.update_geos(fitbounds = 'locations', visible = False)\n",
        "plotly.offline.plot(fig, filename = f'/content/drive/MyDrive/plots_vis_dados/map_queimadas_brasil_{mes}_{ano}.html')\n",
        "\n",
        "# fig.show()"
      ],
      "metadata": {
        "id": "zxI-uWumBsuu",
        "colab": {
          "base_uri": "https://localhost:8080/",
          "height": 35
        },
        "outputId": "fdc198fb-03c7-4fd1-f5d4-bcea68b0c3a8"
      },
      "execution_count": null,
      "outputs": [
        {
          "output_type": "execute_result",
          "data": {
            "text/plain": [
              "'/content/drive/MyDrive/plots_vis_dados/map_queimadas_brasil_Novembro_2024.html'"
            ],
            "application/vnd.google.colaboratory.intrinsic+json": {
              "type": "string"
            }
          },
          "metadata": {},
          "execution_count": 130
        }
      ]
    },
    {
      "cell_type": "markdown",
      "source": [
        "## Visualizações por Biomas"
      ],
      "metadata": {
        "id": "yyV1Z8JMAzE3"
      }
    },
    {
      "cell_type": "markdown",
      "source": [
        "Podemos ainda identificar no mapa do Brasil, onde estão os focos de incêndio de cada bioma, quanto maior a área colorida, maior o número de focos ou mais potente são as queimadas no local.\n",
        "\n",
        "No gráfico é possível ainda identificar a cidade onde se deu a queimada e a potência do fogo."
      ],
      "metadata": {
        "id": "Q3iYYvg-QaJ3"
      }
    },
    {
      "cell_type": "code",
      "source": [
        "fig = px.scatter_mapbox(\n",
        "    df,\n",
        "    lat='lat',\n",
        "    lon='lon',\n",
        "    color='bioma',\n",
        "    size='frp',\n",
        "    hover_name='municipio',\n",
        "    title='Distribuição Espacial por Bioma',\n",
        "    mapbox_style='carto-positron',\n",
        "    labels={'bioma': 'Bioma', 'frp': 'Potência do Fogo', 'lat': 'Latitude', 'lon': 'Longitude'},\n",
        "    zoom=4,\n",
        "    height=600\n",
        ")\n",
        "\n",
        "plotly.offline.plot(fig, filename = f'/content/drive/MyDrive/plots_vis_dados/distribuicao_espacial_por_bioma.html')\n",
        "\n",
        "# fig.show()"
      ],
      "metadata": {
        "id": "xOgdlbVkM4Hk",
        "colab": {
          "base_uri": "https://localhost:8080/",
          "height": 35
        },
        "outputId": "4228ed3e-3428-4fac-81b6-bfd0514f41c5"
      },
      "execution_count": null,
      "outputs": [
        {
          "output_type": "execute_result",
          "data": {
            "text/plain": [
              "'/content/drive/MyDrive/plots_vis_dados/distribuicao_espacial_por_bioma.html'"
            ],
            "application/vnd.google.colaboratory.intrinsic+json": {
              "type": "string"
            }
          },
          "metadata": {},
          "execution_count": 131
        }
      ]
    },
    {
      "cell_type": "markdown",
      "source": [
        "## Visualizações por Municípios"
      ],
      "metadata": {
        "id": "L7hiN3YOA2OA"
      }
    },
    {
      "cell_type": "code",
      "source": [
        "centro_estados = {\n",
        "\t'AC': [-8.77, -70.55], 'AL': [-9.62, -36.82], 'AM': [-3.47, -65.10], 'AP': [1.41, -51.77],\n",
        "\t'BA': [-13.29, -41.71], 'CE': [-5.20, -39.53], 'DF': [-15.83, -47.86], 'ES': [-19.19, -40.34],\n",
        "\t'GO': [-15.98, -49.86], 'MA': [-5.42, -45.44], 'MT': [-12.64, -55.42], 'MS': [-20.51, -54.54],\n",
        "\t'MG': [-18.10, -44.38], 'PA': [-3.79, -52.48], 'PB': [-7.28, -36.72], 'PR': [-24.89, -51.55],\n",
        "\t'PI': [-6.60, -42.28], 'RJ': [-22.25, -42.66], 'RN': [-5.81, -36.59], 'RO': [-10.83, -63.34],\n",
        "\t'RR': [1.99, -61.33], 'SC': [-27.45, -50.95], 'SE': [-10.57, -37.45], 'SP': [-22.19, -48.79],\n",
        "  'PE': [-8.38, -37.86], 'RS': [-30.17, -53.50],\t'TO': [-9.46, -48.26]\n",
        "}"
      ],
      "metadata": {
        "id": "4NUKm52fKUYo"
      },
      "execution_count": null,
      "outputs": []
    },
    {
      "cell_type": "code",
      "source": [
        "estado_id = {}\n",
        "\n",
        "for i in range(27):\n",
        "  estado_id[data['features'][i]['properties']['sigla']] = data['features'][i]['properties']['codigo_ibg']"
      ],
      "metadata": {
        "id": "Mcr_V7sjzgTZ"
      },
      "execution_count": null,
      "outputs": []
    },
    {
      "cell_type": "code",
      "source": [
        "for estado in estados_dict:\n",
        "  df_3 = df[df['estado'] == estados_dict[estado]]\n",
        "\n",
        "  mun = dict(zip(df_3['municipio_id'], df_3['municipio']))\n",
        "\n",
        "  df_4 = pd.DataFrame({'nome': [mun[i] for i in df_3['municipio_id'].value_counts().keys()], 'municipio': df_3['municipio_id'].value_counts().keys(), 'queimadas': df_3['municipio_id'].value_counts().values})\n",
        "\n",
        "  with urlopen(f'https://raw.githubusercontent.com/tbrugz/geodata-br/master/geojson/geojs-{estado_id[estados_dict[estado]]}-mun.json') as response:\n",
        "      geo_json = json.load(response)\n",
        "\n",
        "  fig = px.choropleth_mapbox(\n",
        "      df_4,\n",
        "      geojson = geo_json,\n",
        "      locations='municipio',\n",
        "      featureidkey = 'properties.id',\n",
        "      color = 'queimadas',\n",
        "      # animation_frame = 'date',\n",
        "      hover_name = 'nome',\n",
        "      hover_data = 'queimadas',\n",
        "      title = f'Queimadas em {estado}',\n",
        "      color_continuous_scale='YlOrRd',\n",
        "      mapbox_style = 'carto-positron',\n",
        "      center = {'lat': centro_estados[estados_dict[estado]][0], 'lon': centro_estados[estados_dict[estado]][1]},\n",
        "      zoom = 3,\n",
        "      labels={'queimadas': 'Queimadas'},\n",
        "      opacity = 0.9)\n",
        "\n",
        "  fig.update_geos(fitbounds = 'locations', visible = False)\n",
        "  # plotly.offline.plot(fig, filename = f'/content/drive/MyDrive/plots_vis_dados/por_estado/{estados_dict[estado]}_map_queimadas.html')\n",
        "  # fig.show()"
      ],
      "metadata": {
        "id": "1wRpMpWcL7rs"
      },
      "execution_count": null,
      "outputs": []
    },
    {
      "cell_type": "markdown",
      "source": [
        "# Classificação dos Dados"
      ],
      "metadata": {
        "id": "HeDJufQEFIwT"
      }
    },
    {
      "cell_type": "markdown",
      "source": [
        "Classificação dos dados por Fire Power"
      ],
      "metadata": {
        "id": "_KLcvbRODkh3"
      }
    },
    {
      "cell_type": "code",
      "source": [
        "q1, q2, q3 = df['frp'].quantile([0.25, 0.5, 0.75])\n",
        "iqr = q3 - q1\n",
        "lower_bound = q1 - 1.5 * iqr\n",
        "upper_bound = q3 + 1.5 * iqr\n",
        "\n",
        "df['cat_frp'] = pd.cut(df['frp'],\n",
        "                       bins=[0, q1, q2, q3, upper_bound, df['frp'].max()],\n",
        "                       labels=['Muito Baixa', 'Baixa', 'Media', 'Alta', 'Muito Alta'])"
      ],
      "metadata": {
        "id": "Is-2Z_IOGDhW"
      },
      "execution_count": null,
      "outputs": []
    },
    {
      "cell_type": "markdown",
      "source": [
        "Classificação dos dados por risco de fogo"
      ],
      "metadata": {
        "id": "elRgfPv0F57U"
      }
    },
    {
      "cell_type": "code",
      "source": [
        "q1, q2, q3 = df['risco_fogo'].quantile([0.25, 0.5, 0.75])\n",
        "\n",
        "df['cat_risco_fogo'] = pd.cut(df['risco_fogo'],\n",
        "                              bins=[0, q1, q2, q3],\n",
        "                              labels=['Baixo', 'Medio', 'Alto'])"
      ],
      "metadata": {
        "id": "t6SPUNArH5Dv"
      },
      "execution_count": null,
      "outputs": []
    },
    {
      "cell_type": "markdown",
      "source": [
        "Criação das Visualizações classificadas"
      ],
      "metadata": {
        "id": "0OFJJeuHKgQ0"
      }
    },
    {
      "cell_type": "code",
      "source": [
        "_ = {'frp': 'Potência do Fogo', 'risco_fogo': 'Risco de Fogo'}\n",
        "\n",
        "for metrica in ['frp', 'risco_fogo']:\n",
        "  for categoria in ['Baixo', 'Medio', 'Alto'] if metrica == 'risco_fogo' else ['Muito Baixa', 'Baixa', 'Media', 'Alta', 'Muito Alta']:\n",
        "    fig = px.scatter_mapbox(\n",
        "        df[df[f'cat_{metrica}'] == categoria],\n",
        "        lat='lat',\n",
        "        lon='lon',\n",
        "        color=f'cat_{metrica}',\n",
        "        hover_name='municipio',\n",
        "        hover_data=['date', 'time', 'bioma', 'frp', 'risco_fogo'],\n",
        "        title=f'Distribuição Espacial das Queimadas de {_[metrica]} {categoria}s',\n",
        "        mapbox_style='carto-positron',\n",
        "        zoom=2.5,\n",
        "        labels={'date': 'Data', 'time': 'Hora', 'bioma': 'Bioma', 'frp': 'Potência do Fogo',\n",
        "                'risco_fogo': 'Risco de Fogo', 'lat': 'Latitude', 'lon': 'Longitude',\n",
        "                'cat_frp': 'Potência do Fogo', 'cat_risco_fogo': 'Risco de Fogo'},\n",
        "        height=600\n",
        "    )\n",
        "    plotly.offline.plot(fig, filename = f'/content/drive/MyDrive/plots_vis_dados/por_categoria/{metrica}/queimadas_{categoria}_{metrica}.html')\n",
        "    # fig.show()"
      ],
      "metadata": {
        "id": "8jAqbLZ_Ixwh"
      },
      "execution_count": null,
      "outputs": []
    }
  ]
}